{
 "metadata": {
  "language_info": {
   "codemirror_mode": {
    "name": "ipython",
    "version": 3
   },
   "file_extension": ".py",
   "mimetype": "text/x-python",
   "name": "python",
   "nbconvert_exporter": "python",
   "pygments_lexer": "ipython3",
   "version": "3.8.3-final"
  },
  "orig_nbformat": 2,
  "kernelspec": {
   "name": "python_defaultSpec_1598381480503",
   "display_name": "Python 3.8.3 64-bit ('base': conda)"
  }
 },
 "nbformat": 4,
 "nbformat_minor": 2,
 "cells": [
  {
   "cell_type": "markdown",
   "metadata": {},
   "source": [
    "Importing The required Libraries"
   ]
  },
  {
   "cell_type": "code",
   "execution_count": null,
   "metadata": {},
   "outputs": [],
   "source": [
    "import sqlalchemy as sqla\n",
    "import pandas as pd"
   ]
  },
  {
   "cell_type": "markdown",
   "metadata": {},
   "source": [
    "Creating an Engine object to connect with Database."
   ]
  },
  {
   "cell_type": "code",
   "execution_count": 36,
   "metadata": {},
   "outputs": [],
   "source": [
    "db = sqla.create_engine('sqlite:///C:/sqlLite/country_club.db')"
   ]
  },
  {
   "cell_type": "markdown",
   "metadata": {},
   "source": [
    "Printing data from Facilities table"
   ]
  },
  {
   "cell_type": "code",
   "execution_count": 37,
   "metadata": {},
   "outputs": [
    {
     "output_type": "execute_result",
     "data": {
      "text/plain": "   facid             name  membercost  guestcost  initialoutlay  \\\n0      0   Tennis Court 1         5.0       25.0          10000   \n1      1   Tennis Court 2         5.0       25.0           8000   \n2      2  Badminton Court         0.0       15.5           4000   \n3      3     Table Tennis         0.0        5.0            320   \n4      4   Massage Room 1         9.9       80.0           4000   \n5      5   Massage Room 2         9.9       80.0           4000   \n6      6     Squash Court         3.5       17.5           5000   \n7      7    Snooker Table         0.0        5.0            450   \n8      8       Pool Table         0.0        5.0            400   \n\n   monthlymaintenance  \n0                 200  \n1                 200  \n2                  50  \n3                  10  \n4                3000  \n5                3000  \n6                  80  \n7                  15  \n8                  15  ",
      "text/html": "<div>\n<style scoped>\n    .dataframe tbody tr th:only-of-type {\n        vertical-align: middle;\n    }\n\n    .dataframe tbody tr th {\n        vertical-align: top;\n    }\n\n    .dataframe thead th {\n        text-align: right;\n    }\n</style>\n<table border=\"1\" class=\"dataframe\">\n  <thead>\n    <tr style=\"text-align: right;\">\n      <th></th>\n      <th>facid</th>\n      <th>name</th>\n      <th>membercost</th>\n      <th>guestcost</th>\n      <th>initialoutlay</th>\n      <th>monthlymaintenance</th>\n    </tr>\n  </thead>\n  <tbody>\n    <tr>\n      <th>0</th>\n      <td>0</td>\n      <td>Tennis Court 1</td>\n      <td>5.0</td>\n      <td>25.0</td>\n      <td>10000</td>\n      <td>200</td>\n    </tr>\n    <tr>\n      <th>1</th>\n      <td>1</td>\n      <td>Tennis Court 2</td>\n      <td>5.0</td>\n      <td>25.0</td>\n      <td>8000</td>\n      <td>200</td>\n    </tr>\n    <tr>\n      <th>2</th>\n      <td>2</td>\n      <td>Badminton Court</td>\n      <td>0.0</td>\n      <td>15.5</td>\n      <td>4000</td>\n      <td>50</td>\n    </tr>\n    <tr>\n      <th>3</th>\n      <td>3</td>\n      <td>Table Tennis</td>\n      <td>0.0</td>\n      <td>5.0</td>\n      <td>320</td>\n      <td>10</td>\n    </tr>\n    <tr>\n      <th>4</th>\n      <td>4</td>\n      <td>Massage Room 1</td>\n      <td>9.9</td>\n      <td>80.0</td>\n      <td>4000</td>\n      <td>3000</td>\n    </tr>\n    <tr>\n      <th>5</th>\n      <td>5</td>\n      <td>Massage Room 2</td>\n      <td>9.9</td>\n      <td>80.0</td>\n      <td>4000</td>\n      <td>3000</td>\n    </tr>\n    <tr>\n      <th>6</th>\n      <td>6</td>\n      <td>Squash Court</td>\n      <td>3.5</td>\n      <td>17.5</td>\n      <td>5000</td>\n      <td>80</td>\n    </tr>\n    <tr>\n      <th>7</th>\n      <td>7</td>\n      <td>Snooker Table</td>\n      <td>0.0</td>\n      <td>5.0</td>\n      <td>450</td>\n      <td>15</td>\n    </tr>\n    <tr>\n      <th>8</th>\n      <td>8</td>\n      <td>Pool Table</td>\n      <td>0.0</td>\n      <td>5.0</td>\n      <td>400</td>\n      <td>15</td>\n    </tr>\n  </tbody>\n</table>\n</div>"
     },
     "metadata": {},
     "execution_count": 37
    }
   ],
   "source": [
    "pd.read_sql('select * from Facilities',db)"
   ]
  },
  {
   "cell_type": "markdown",
   "metadata": {},
   "source": [
    "Printing data from Members table"
   ]
  },
  {
   "cell_type": "code",
   "execution_count": 38,
   "metadata": {},
   "outputs": [
    {
     "output_type": "execute_result",
     "data": {
      "text/plain": "    memid            surname  firstname  \\\n0       0              GUEST      GUEST   \n1       1              Smith     Darren   \n2       2              Smith      Tracy   \n3       3             Rownam        Tim   \n4       4           Joplette     Janice   \n5       5            Butters     Gerald   \n6       6              Tracy     Burton   \n7       7               Dare      Nancy   \n8       8             Boothe        Tim   \n9       9           Stibbons     Ponder   \n10     10               Owen    Charles   \n11     11              Jones      David   \n12     12              Baker       Anne   \n13     13            Farrell     Jemima   \n14     14              Smith       Jack   \n15     15              Bader   Florence   \n16     16              Baker    Timothy   \n17     17             Pinker      David   \n18     20            Genting    Matthew   \n19     21          Mackenzie       Anna   \n20     22             Coplin       Joan   \n21     24             Sarwin  Ramnaresh   \n22     26              Jones    Douglas   \n23     27             Rumney  Henrietta   \n24     28            Farrell      David   \n25     29  Worthington-Smyth      Henry   \n26     30            Purview  Millicent   \n27     33         Tupperware   Hyacinth   \n28     35               Hunt       John   \n29     36            Crumpet      Erica   \n30     37              Smith     Darren   \n\n                                    address  zipcode       telephone  \\\n0                                     GUEST        0  (000) 000-0000   \n1                8 Bloomsbury Close, Boston     4321    555-555-5555   \n2              8 Bloomsbury Close, New York     4321    555-555-5555   \n3                    23 Highway Way, Boston    23423  (844) 693-0723   \n4                20 Crossing Road, New York      234  (833) 942-4710   \n5            1065 Huntingdon Avenue, Boston    56754  (844) 078-4130   \n6                   3 Tunisia Drive, Boston    45678  (822) 354-9973   \n7               6 Hunting Lodge Way, Boston    10383  (833) 776-4001   \n8        3 Bloomsbury Close, Reading, 00234      234  (811) 433-2547   \n9                 5 Dragons Way, Winchester    87630  (833) 160-3900   \n10     52 Cheshire Grove, Winchester, 28563    28563  (855) 542-5251   \n11                 976 Gnats Close, Reading    33862  (844) 536-8036   \n12                55 Powdery Street, Boston    80743    844-076-5141   \n13          103 Firth Avenue, North Reading    57392  (855) 016-0163   \n14               252 Binkington Way, Boston    69302  (822) 163-3254   \n15               264 Ursula Drive, Westford    84923  (833) 499-3527   \n16                329 James Street, Reading    58393    833-941-0824   \n17                   5 Impreza Road, Boston    65332    811 409-6734   \n18    4 Nunnington Place, Wingfield, Boston    52365  (811) 972-1377   \n19              64 Perkington Lane, Reading    64577  (822) 661-2898   \n20      85 Bard Street, Bloomington, Boston    43533  (822) 499-2232   \n21               12 Bullington Lane, Boston    65464  (822) 413-1470   \n22                 976 Gnats Close, Reading    11986    844 536-8036   \n23               3 Burkington Plaza, Boston    78533  (822) 989-8876   \n24          437 Granite Farm Road, Westford    43532  (855) 755-9876   \n25              55 Jagbi Way, North Reading    97676  (855) 894-3758   \n26   641 Drudgery Close, Burnington, Boston    34232  (855) 941-9786   \n27  33 Cheerful Plaza, Drake Road, Westford    68666  (822) 665-5327   \n28                5 Bullington Lane, Boston    54333  (899) 720-6978   \n29              Crimson Road, North Reading    75655  (811) 732-4816   \n30           3 Funktown, Denzington, Boston    66796  (822) 577-3541   \n\n   recommendedby             joindate  \n0                 2012-07-01 00:00:00  \n1                 2012-07-02 12:02:05  \n2                 2012-07-02 12:08:23  \n3                 2012-07-03 09:32:15  \n4              1  2012-07-03 10:25:05  \n5              1  2012-07-09 10:44:09  \n6                 2012-07-15 08:52:55  \n7              4  2012-07-25 08:59:12  \n8              3  2012-07-25 16:02:35  \n9              6  2012-07-25 17:09:05  \n10             1  2012-08-03 19:42:37  \n11             4  2012-08-06 16:32:55  \n12             9  2012-08-10 14:23:22  \n13                2012-08-10 14:28:01  \n14             1  2012-08-10 16:22:05  \n15             9  2012-08-10 17:52:03  \n16            13  2012-08-15 10:34:25  \n17            13  2012-08-16 11:32:47  \n18             5  2012-08-19 14:55:55  \n19             1  2012-08-26 09:32:05  \n20            16  2012-08-29 08:32:41  \n21            15  2012-09-01 08:44:42  \n22            11  2012-09-02 18:43:05  \n23            20  2012-09-05 08:42:35  \n24                2012-09-15 08:22:05  \n25             2  2012-09-17 12:27:15  \n26             2  2012-09-18 19:04:01  \n27                2012-09-18 19:32:05  \n28            30  2012-09-19 11:32:45  \n29             2  2012-09-22 08:36:38  \n30                2012-09-26 18:08:45  ",
      "text/html": "<div>\n<style scoped>\n    .dataframe tbody tr th:only-of-type {\n        vertical-align: middle;\n    }\n\n    .dataframe tbody tr th {\n        vertical-align: top;\n    }\n\n    .dataframe thead th {\n        text-align: right;\n    }\n</style>\n<table border=\"1\" class=\"dataframe\">\n  <thead>\n    <tr style=\"text-align: right;\">\n      <th></th>\n      <th>memid</th>\n      <th>surname</th>\n      <th>firstname</th>\n      <th>address</th>\n      <th>zipcode</th>\n      <th>telephone</th>\n      <th>recommendedby</th>\n      <th>joindate</th>\n    </tr>\n  </thead>\n  <tbody>\n    <tr>\n      <th>0</th>\n      <td>0</td>\n      <td>GUEST</td>\n      <td>GUEST</td>\n      <td>GUEST</td>\n      <td>0</td>\n      <td>(000) 000-0000</td>\n      <td></td>\n      <td>2012-07-01 00:00:00</td>\n    </tr>\n    <tr>\n      <th>1</th>\n      <td>1</td>\n      <td>Smith</td>\n      <td>Darren</td>\n      <td>8 Bloomsbury Close, Boston</td>\n      <td>4321</td>\n      <td>555-555-5555</td>\n      <td></td>\n      <td>2012-07-02 12:02:05</td>\n    </tr>\n    <tr>\n      <th>2</th>\n      <td>2</td>\n      <td>Smith</td>\n      <td>Tracy</td>\n      <td>8 Bloomsbury Close, New York</td>\n      <td>4321</td>\n      <td>555-555-5555</td>\n      <td></td>\n      <td>2012-07-02 12:08:23</td>\n    </tr>\n    <tr>\n      <th>3</th>\n      <td>3</td>\n      <td>Rownam</td>\n      <td>Tim</td>\n      <td>23 Highway Way, Boston</td>\n      <td>23423</td>\n      <td>(844) 693-0723</td>\n      <td></td>\n      <td>2012-07-03 09:32:15</td>\n    </tr>\n    <tr>\n      <th>4</th>\n      <td>4</td>\n      <td>Joplette</td>\n      <td>Janice</td>\n      <td>20 Crossing Road, New York</td>\n      <td>234</td>\n      <td>(833) 942-4710</td>\n      <td>1</td>\n      <td>2012-07-03 10:25:05</td>\n    </tr>\n    <tr>\n      <th>5</th>\n      <td>5</td>\n      <td>Butters</td>\n      <td>Gerald</td>\n      <td>1065 Huntingdon Avenue, Boston</td>\n      <td>56754</td>\n      <td>(844) 078-4130</td>\n      <td>1</td>\n      <td>2012-07-09 10:44:09</td>\n    </tr>\n    <tr>\n      <th>6</th>\n      <td>6</td>\n      <td>Tracy</td>\n      <td>Burton</td>\n      <td>3 Tunisia Drive, Boston</td>\n      <td>45678</td>\n      <td>(822) 354-9973</td>\n      <td></td>\n      <td>2012-07-15 08:52:55</td>\n    </tr>\n    <tr>\n      <th>7</th>\n      <td>7</td>\n      <td>Dare</td>\n      <td>Nancy</td>\n      <td>6 Hunting Lodge Way, Boston</td>\n      <td>10383</td>\n      <td>(833) 776-4001</td>\n      <td>4</td>\n      <td>2012-07-25 08:59:12</td>\n    </tr>\n    <tr>\n      <th>8</th>\n      <td>8</td>\n      <td>Boothe</td>\n      <td>Tim</td>\n      <td>3 Bloomsbury Close, Reading, 00234</td>\n      <td>234</td>\n      <td>(811) 433-2547</td>\n      <td>3</td>\n      <td>2012-07-25 16:02:35</td>\n    </tr>\n    <tr>\n      <th>9</th>\n      <td>9</td>\n      <td>Stibbons</td>\n      <td>Ponder</td>\n      <td>5 Dragons Way, Winchester</td>\n      <td>87630</td>\n      <td>(833) 160-3900</td>\n      <td>6</td>\n      <td>2012-07-25 17:09:05</td>\n    </tr>\n    <tr>\n      <th>10</th>\n      <td>10</td>\n      <td>Owen</td>\n      <td>Charles</td>\n      <td>52 Cheshire Grove, Winchester, 28563</td>\n      <td>28563</td>\n      <td>(855) 542-5251</td>\n      <td>1</td>\n      <td>2012-08-03 19:42:37</td>\n    </tr>\n    <tr>\n      <th>11</th>\n      <td>11</td>\n      <td>Jones</td>\n      <td>David</td>\n      <td>976 Gnats Close, Reading</td>\n      <td>33862</td>\n      <td>(844) 536-8036</td>\n      <td>4</td>\n      <td>2012-08-06 16:32:55</td>\n    </tr>\n    <tr>\n      <th>12</th>\n      <td>12</td>\n      <td>Baker</td>\n      <td>Anne</td>\n      <td>55 Powdery Street, Boston</td>\n      <td>80743</td>\n      <td>844-076-5141</td>\n      <td>9</td>\n      <td>2012-08-10 14:23:22</td>\n    </tr>\n    <tr>\n      <th>13</th>\n      <td>13</td>\n      <td>Farrell</td>\n      <td>Jemima</td>\n      <td>103 Firth Avenue, North Reading</td>\n      <td>57392</td>\n      <td>(855) 016-0163</td>\n      <td></td>\n      <td>2012-08-10 14:28:01</td>\n    </tr>\n    <tr>\n      <th>14</th>\n      <td>14</td>\n      <td>Smith</td>\n      <td>Jack</td>\n      <td>252 Binkington Way, Boston</td>\n      <td>69302</td>\n      <td>(822) 163-3254</td>\n      <td>1</td>\n      <td>2012-08-10 16:22:05</td>\n    </tr>\n    <tr>\n      <th>15</th>\n      <td>15</td>\n      <td>Bader</td>\n      <td>Florence</td>\n      <td>264 Ursula Drive, Westford</td>\n      <td>84923</td>\n      <td>(833) 499-3527</td>\n      <td>9</td>\n      <td>2012-08-10 17:52:03</td>\n    </tr>\n    <tr>\n      <th>16</th>\n      <td>16</td>\n      <td>Baker</td>\n      <td>Timothy</td>\n      <td>329 James Street, Reading</td>\n      <td>58393</td>\n      <td>833-941-0824</td>\n      <td>13</td>\n      <td>2012-08-15 10:34:25</td>\n    </tr>\n    <tr>\n      <th>17</th>\n      <td>17</td>\n      <td>Pinker</td>\n      <td>David</td>\n      <td>5 Impreza Road, Boston</td>\n      <td>65332</td>\n      <td>811 409-6734</td>\n      <td>13</td>\n      <td>2012-08-16 11:32:47</td>\n    </tr>\n    <tr>\n      <th>18</th>\n      <td>20</td>\n      <td>Genting</td>\n      <td>Matthew</td>\n      <td>4 Nunnington Place, Wingfield, Boston</td>\n      <td>52365</td>\n      <td>(811) 972-1377</td>\n      <td>5</td>\n      <td>2012-08-19 14:55:55</td>\n    </tr>\n    <tr>\n      <th>19</th>\n      <td>21</td>\n      <td>Mackenzie</td>\n      <td>Anna</td>\n      <td>64 Perkington Lane, Reading</td>\n      <td>64577</td>\n      <td>(822) 661-2898</td>\n      <td>1</td>\n      <td>2012-08-26 09:32:05</td>\n    </tr>\n    <tr>\n      <th>20</th>\n      <td>22</td>\n      <td>Coplin</td>\n      <td>Joan</td>\n      <td>85 Bard Street, Bloomington, Boston</td>\n      <td>43533</td>\n      <td>(822) 499-2232</td>\n      <td>16</td>\n      <td>2012-08-29 08:32:41</td>\n    </tr>\n    <tr>\n      <th>21</th>\n      <td>24</td>\n      <td>Sarwin</td>\n      <td>Ramnaresh</td>\n      <td>12 Bullington Lane, Boston</td>\n      <td>65464</td>\n      <td>(822) 413-1470</td>\n      <td>15</td>\n      <td>2012-09-01 08:44:42</td>\n    </tr>\n    <tr>\n      <th>22</th>\n      <td>26</td>\n      <td>Jones</td>\n      <td>Douglas</td>\n      <td>976 Gnats Close, Reading</td>\n      <td>11986</td>\n      <td>844 536-8036</td>\n      <td>11</td>\n      <td>2012-09-02 18:43:05</td>\n    </tr>\n    <tr>\n      <th>23</th>\n      <td>27</td>\n      <td>Rumney</td>\n      <td>Henrietta</td>\n      <td>3 Burkington Plaza, Boston</td>\n      <td>78533</td>\n      <td>(822) 989-8876</td>\n      <td>20</td>\n      <td>2012-09-05 08:42:35</td>\n    </tr>\n    <tr>\n      <th>24</th>\n      <td>28</td>\n      <td>Farrell</td>\n      <td>David</td>\n      <td>437 Granite Farm Road, Westford</td>\n      <td>43532</td>\n      <td>(855) 755-9876</td>\n      <td></td>\n      <td>2012-09-15 08:22:05</td>\n    </tr>\n    <tr>\n      <th>25</th>\n      <td>29</td>\n      <td>Worthington-Smyth</td>\n      <td>Henry</td>\n      <td>55 Jagbi Way, North Reading</td>\n      <td>97676</td>\n      <td>(855) 894-3758</td>\n      <td>2</td>\n      <td>2012-09-17 12:27:15</td>\n    </tr>\n    <tr>\n      <th>26</th>\n      <td>30</td>\n      <td>Purview</td>\n      <td>Millicent</td>\n      <td>641 Drudgery Close, Burnington, Boston</td>\n      <td>34232</td>\n      <td>(855) 941-9786</td>\n      <td>2</td>\n      <td>2012-09-18 19:04:01</td>\n    </tr>\n    <tr>\n      <th>27</th>\n      <td>33</td>\n      <td>Tupperware</td>\n      <td>Hyacinth</td>\n      <td>33 Cheerful Plaza, Drake Road, Westford</td>\n      <td>68666</td>\n      <td>(822) 665-5327</td>\n      <td></td>\n      <td>2012-09-18 19:32:05</td>\n    </tr>\n    <tr>\n      <th>28</th>\n      <td>35</td>\n      <td>Hunt</td>\n      <td>John</td>\n      <td>5 Bullington Lane, Boston</td>\n      <td>54333</td>\n      <td>(899) 720-6978</td>\n      <td>30</td>\n      <td>2012-09-19 11:32:45</td>\n    </tr>\n    <tr>\n      <th>29</th>\n      <td>36</td>\n      <td>Crumpet</td>\n      <td>Erica</td>\n      <td>Crimson Road, North Reading</td>\n      <td>75655</td>\n      <td>(811) 732-4816</td>\n      <td>2</td>\n      <td>2012-09-22 08:36:38</td>\n    </tr>\n    <tr>\n      <th>30</th>\n      <td>37</td>\n      <td>Smith</td>\n      <td>Darren</td>\n      <td>3 Funktown, Denzington, Boston</td>\n      <td>66796</td>\n      <td>(822) 577-3541</td>\n      <td></td>\n      <td>2012-09-26 18:08:45</td>\n    </tr>\n  </tbody>\n</table>\n</div>"
     },
     "metadata": {},
     "execution_count": 38
    }
   ],
   "source": [
    "pd.read_sql('select * from Members',db)"
   ]
  },
  {
   "cell_type": "markdown",
   "metadata": {},
   "source": [
    "Printing data from Bookings table"
   ]
  },
  {
   "cell_type": "code",
   "execution_count": 39,
   "metadata": {},
   "outputs": [
    {
     "output_type": "execute_result",
     "data": {
      "text/plain": "      bookid  facid  memid            starttime  slots\n0          0      3      1  2012-07-03 11:00:00      2\n1          1      4      1  2012-07-03 08:00:00      2\n2          2      6      0  2012-07-03 18:00:00      2\n3          3      7      1  2012-07-03 19:00:00      2\n4          4      8      1  2012-07-03 10:00:00      1\n...      ...    ...    ...                  ...    ...\n4038    4038      8     29  2012-09-30 16:30:00      2\n4039    4039      8     29  2012-09-30 18:00:00      1\n4040    4040      8     21  2012-09-30 18:30:00      1\n4041    4041      8     16  2012-09-30 19:00:00      1\n4042    4042      8     29  2012-09-30 19:30:00      1\n\n[4043 rows x 5 columns]",
      "text/html": "<div>\n<style scoped>\n    .dataframe tbody tr th:only-of-type {\n        vertical-align: middle;\n    }\n\n    .dataframe tbody tr th {\n        vertical-align: top;\n    }\n\n    .dataframe thead th {\n        text-align: right;\n    }\n</style>\n<table border=\"1\" class=\"dataframe\">\n  <thead>\n    <tr style=\"text-align: right;\">\n      <th></th>\n      <th>bookid</th>\n      <th>facid</th>\n      <th>memid</th>\n      <th>starttime</th>\n      <th>slots</th>\n    </tr>\n  </thead>\n  <tbody>\n    <tr>\n      <th>0</th>\n      <td>0</td>\n      <td>3</td>\n      <td>1</td>\n      <td>2012-07-03 11:00:00</td>\n      <td>2</td>\n    </tr>\n    <tr>\n      <th>1</th>\n      <td>1</td>\n      <td>4</td>\n      <td>1</td>\n      <td>2012-07-03 08:00:00</td>\n      <td>2</td>\n    </tr>\n    <tr>\n      <th>2</th>\n      <td>2</td>\n      <td>6</td>\n      <td>0</td>\n      <td>2012-07-03 18:00:00</td>\n      <td>2</td>\n    </tr>\n    <tr>\n      <th>3</th>\n      <td>3</td>\n      <td>7</td>\n      <td>1</td>\n      <td>2012-07-03 19:00:00</td>\n      <td>2</td>\n    </tr>\n    <tr>\n      <th>4</th>\n      <td>4</td>\n      <td>8</td>\n      <td>1</td>\n      <td>2012-07-03 10:00:00</td>\n      <td>1</td>\n    </tr>\n    <tr>\n      <th>...</th>\n      <td>...</td>\n      <td>...</td>\n      <td>...</td>\n      <td>...</td>\n      <td>...</td>\n    </tr>\n    <tr>\n      <th>4038</th>\n      <td>4038</td>\n      <td>8</td>\n      <td>29</td>\n      <td>2012-09-30 16:30:00</td>\n      <td>2</td>\n    </tr>\n    <tr>\n      <th>4039</th>\n      <td>4039</td>\n      <td>8</td>\n      <td>29</td>\n      <td>2012-09-30 18:00:00</td>\n      <td>1</td>\n    </tr>\n    <tr>\n      <th>4040</th>\n      <td>4040</td>\n      <td>8</td>\n      <td>21</td>\n      <td>2012-09-30 18:30:00</td>\n      <td>1</td>\n    </tr>\n    <tr>\n      <th>4041</th>\n      <td>4041</td>\n      <td>8</td>\n      <td>16</td>\n      <td>2012-09-30 19:00:00</td>\n      <td>1</td>\n    </tr>\n    <tr>\n      <th>4042</th>\n      <td>4042</td>\n      <td>8</td>\n      <td>29</td>\n      <td>2012-09-30 19:30:00</td>\n      <td>1</td>\n    </tr>\n  </tbody>\n</table>\n<p>4043 rows × 5 columns</p>\n</div>"
     },
     "metadata": {},
     "execution_count": 39
    }
   ],
   "source": [
    "pd.read_sql('select * from Bookings',db)"
   ]
  },
  {
   "cell_type": "markdown",
   "metadata": {},
   "source": [
    "Produce a list of facilities with a total revenue less than 1000.\n",
    "The output of facility name and total revenue, sorted by revenue. Remember\n",
    "that there's a different cost for guests and members!"
   ]
  },
  {
   "cell_type": "code",
   "execution_count": 41,
   "metadata": {},
   "outputs": [
    {
     "output_type": "execute_result",
     "data": {
      "text/plain": "            name  Revenue\n0   Table Tennis      180\n1  Snooker Table      240\n2     Pool Table      270",
      "text/html": "<div>\n<style scoped>\n    .dataframe tbody tr th:only-of-type {\n        vertical-align: middle;\n    }\n\n    .dataframe tbody tr th {\n        vertical-align: top;\n    }\n\n    .dataframe thead th {\n        text-align: right;\n    }\n</style>\n<table border=\"1\" class=\"dataframe\">\n  <thead>\n    <tr style=\"text-align: right;\">\n      <th></th>\n      <th>name</th>\n      <th>Revenue</th>\n    </tr>\n  </thead>\n  <tbody>\n    <tr>\n      <th>0</th>\n      <td>Table Tennis</td>\n      <td>180</td>\n    </tr>\n    <tr>\n      <th>1</th>\n      <td>Snooker Table</td>\n      <td>240</td>\n    </tr>\n    <tr>\n      <th>2</th>\n      <td>Pool Table</td>\n      <td>270</td>\n    </tr>\n  </tbody>\n</table>\n</div>"
     },
     "metadata": {},
     "execution_count": 41
    }
   ],
   "source": [
    "pd.read_sql('select sub.name,sub.Revenue from (select f.name,sum(case when b.memid = 0 then b.slots * f.guestcost else b.slots * f.membercost end) as Revenue from Facilities f inner join Bookings b on f.facid = b.facid left outer join Members m on m.memid = b.memid group by f.name ) sub where sub.Revenue < 1000 order by Revenue',db)"
   ]
  },
  {
   "cell_type": "markdown",
   "metadata": {},
   "source": [
    "Produce a report of members and who recommended them in alphabetic surname,firstname order"
   ]
  },
  {
   "cell_type": "code",
   "execution_count": 51,
   "metadata": {},
   "outputs": [
    {
     "output_type": "execute_result",
     "data": {
      "text/plain": "                     Member        Recommender\n0            Bader,Florence    Stibbons,Ponder\n1                Baker,Anne    Stibbons,Ponder\n2             Baker,Timothy     Farrell,Jemima\n3                Boothe,Tim         Rownam,Tim\n4            Butters,Gerald       Smith,Darren\n5               Coplin,Joan      Baker,Timothy\n6             Crumpet,Erica        Smith,Tracy\n7                Dare,Nancy    Joplette,Janice\n8           Genting,Matthew     Butters,Gerald\n9                 Hunt,John  Purview,Millicent\n10              Jones,David    Joplette,Janice\n11            Jones,Douglas        Jones,David\n12          Joplette,Janice       Smith,Darren\n13           Mackenzie,Anna       Smith,Darren\n14             Owen,Charles       Smith,Darren\n15             Pinker,David     Farrell,Jemima\n16        Purview,Millicent        Smith,Tracy\n17         Rumney,Henrietta    Genting,Matthew\n18         Sarwin,Ramnaresh     Bader,Florence\n19               Smith,Jack       Smith,Darren\n20          Stibbons,Ponder       Tracy,Burton\n21  Worthington-Smyth,Henry        Smith,Tracy",
      "text/html": "<div>\n<style scoped>\n    .dataframe tbody tr th:only-of-type {\n        vertical-align: middle;\n    }\n\n    .dataframe tbody tr th {\n        vertical-align: top;\n    }\n\n    .dataframe thead th {\n        text-align: right;\n    }\n</style>\n<table border=\"1\" class=\"dataframe\">\n  <thead>\n    <tr style=\"text-align: right;\">\n      <th></th>\n      <th>Member</th>\n      <th>Recommender</th>\n    </tr>\n  </thead>\n  <tbody>\n    <tr>\n      <th>0</th>\n      <td>Bader,Florence</td>\n      <td>Stibbons,Ponder</td>\n    </tr>\n    <tr>\n      <th>1</th>\n      <td>Baker,Anne</td>\n      <td>Stibbons,Ponder</td>\n    </tr>\n    <tr>\n      <th>2</th>\n      <td>Baker,Timothy</td>\n      <td>Farrell,Jemima</td>\n    </tr>\n    <tr>\n      <th>3</th>\n      <td>Boothe,Tim</td>\n      <td>Rownam,Tim</td>\n    </tr>\n    <tr>\n      <th>4</th>\n      <td>Butters,Gerald</td>\n      <td>Smith,Darren</td>\n    </tr>\n    <tr>\n      <th>5</th>\n      <td>Coplin,Joan</td>\n      <td>Baker,Timothy</td>\n    </tr>\n    <tr>\n      <th>6</th>\n      <td>Crumpet,Erica</td>\n      <td>Smith,Tracy</td>\n    </tr>\n    <tr>\n      <th>7</th>\n      <td>Dare,Nancy</td>\n      <td>Joplette,Janice</td>\n    </tr>\n    <tr>\n      <th>8</th>\n      <td>Genting,Matthew</td>\n      <td>Butters,Gerald</td>\n    </tr>\n    <tr>\n      <th>9</th>\n      <td>Hunt,John</td>\n      <td>Purview,Millicent</td>\n    </tr>\n    <tr>\n      <th>10</th>\n      <td>Jones,David</td>\n      <td>Joplette,Janice</td>\n    </tr>\n    <tr>\n      <th>11</th>\n      <td>Jones,Douglas</td>\n      <td>Jones,David</td>\n    </tr>\n    <tr>\n      <th>12</th>\n      <td>Joplette,Janice</td>\n      <td>Smith,Darren</td>\n    </tr>\n    <tr>\n      <th>13</th>\n      <td>Mackenzie,Anna</td>\n      <td>Smith,Darren</td>\n    </tr>\n    <tr>\n      <th>14</th>\n      <td>Owen,Charles</td>\n      <td>Smith,Darren</td>\n    </tr>\n    <tr>\n      <th>15</th>\n      <td>Pinker,David</td>\n      <td>Farrell,Jemima</td>\n    </tr>\n    <tr>\n      <th>16</th>\n      <td>Purview,Millicent</td>\n      <td>Smith,Tracy</td>\n    </tr>\n    <tr>\n      <th>17</th>\n      <td>Rumney,Henrietta</td>\n      <td>Genting,Matthew</td>\n    </tr>\n    <tr>\n      <th>18</th>\n      <td>Sarwin,Ramnaresh</td>\n      <td>Bader,Florence</td>\n    </tr>\n    <tr>\n      <th>19</th>\n      <td>Smith,Jack</td>\n      <td>Smith,Darren</td>\n    </tr>\n    <tr>\n      <th>20</th>\n      <td>Stibbons,Ponder</td>\n      <td>Tracy,Burton</td>\n    </tr>\n    <tr>\n      <th>21</th>\n      <td>Worthington-Smyth,Henry</td>\n      <td>Smith,Tracy</td>\n    </tr>\n  </tbody>\n</table>\n</div>"
     },
     "metadata": {},
     "execution_count": 51
    }
   ],
   "source": [
    "pd.read_sql(\"select m2.surname || ',' || m2.firstname as Member, m1.surname || ',' || m1.firstname as Recommender from Members m1 inner join Members m2 on m1.memid = m2.recommendedby order by m2.surname, m2.firstname\",db)\n"
   ]
  },
  {
   "cell_type": "markdown",
   "metadata": {},
   "source": [
    "Find the facilities with their usage by member, but not guests"
   ]
  },
  {
   "cell_type": "code",
   "execution_count": 52,
   "metadata": {},
   "outputs": [
    {
     "output_type": "execute_result",
     "data": {
      "text/plain": "              name  Usage\n0   Tennis Court 1    957\n1   Tennis Court 2    882\n2  Badminton Court   1086\n3     Table Tennis    794\n4   Massage Room 1    884\n5   Massage Room 2     54\n6     Squash Court    418\n7    Snooker Table    860\n8       Pool Table    856",
      "text/html": "<div>\n<style scoped>\n    .dataframe tbody tr th:only-of-type {\n        vertical-align: middle;\n    }\n\n    .dataframe tbody tr th {\n        vertical-align: top;\n    }\n\n    .dataframe thead th {\n        text-align: right;\n    }\n</style>\n<table border=\"1\" class=\"dataframe\">\n  <thead>\n    <tr style=\"text-align: right;\">\n      <th></th>\n      <th>name</th>\n      <th>Usage</th>\n    </tr>\n  </thead>\n  <tbody>\n    <tr>\n      <th>0</th>\n      <td>Tennis Court 1</td>\n      <td>957</td>\n    </tr>\n    <tr>\n      <th>1</th>\n      <td>Tennis Court 2</td>\n      <td>882</td>\n    </tr>\n    <tr>\n      <th>2</th>\n      <td>Badminton Court</td>\n      <td>1086</td>\n    </tr>\n    <tr>\n      <th>3</th>\n      <td>Table Tennis</td>\n      <td>794</td>\n    </tr>\n    <tr>\n      <th>4</th>\n      <td>Massage Room 1</td>\n      <td>884</td>\n    </tr>\n    <tr>\n      <th>5</th>\n      <td>Massage Room 2</td>\n      <td>54</td>\n    </tr>\n    <tr>\n      <th>6</th>\n      <td>Squash Court</td>\n      <td>418</td>\n    </tr>\n    <tr>\n      <th>7</th>\n      <td>Snooker Table</td>\n      <td>860</td>\n    </tr>\n    <tr>\n      <th>8</th>\n      <td>Pool Table</td>\n      <td>856</td>\n    </tr>\n  </tbody>\n</table>\n</div>"
     },
     "metadata": {},
     "execution_count": 52
    }
   ],
   "source": [
    "pd.read_sql(\"select f.name, sum(b.slots) as 'Usage' from Facilities f inner join Bookings b on f.facid = b.facid and b.memid <> 0 group by b.facid\",db)\n"
   ]
  },
  {
   "cell_type": "markdown",
   "metadata": {},
   "source": [
    "Find the facilities usage by month, but not guests"
   ]
  },
  {
   "cell_type": "code",
   "execution_count": 56,
   "metadata": {},
   "outputs": [
    {
     "output_type": "execute_result",
     "data": {
      "text/plain": "               name    Month  Usage\n0    Tennis Court 1  2012-07    201\n1    Tennis Court 1  2012-08    339\n2    Tennis Court 1  2012-09    417\n3    Tennis Court 2  2012-07    123\n4    Tennis Court 2  2012-08    345\n5    Tennis Court 2  2012-09    414\n6   Badminton Court  2012-07    165\n7   Badminton Court  2012-08    414\n8   Badminton Court  2012-09    507\n9      Table Tennis  2012-07     98\n10     Table Tennis  2012-08    296\n11     Table Tennis  2012-09    400\n12   Massage Room 1  2012-07    166\n13   Massage Room 1  2012-08    316\n14   Massage Room 1  2012-09    402\n15   Massage Room 2  2012-07      8\n16   Massage Room 2  2012-08     18\n17   Massage Room 2  2012-09     28\n18     Squash Court  2012-07     50\n19     Squash Court  2012-08    184\n20     Squash Court  2012-09    184\n21    Snooker Table  2012-07    140\n22    Snooker Table  2012-08    316\n23    Snooker Table  2012-09    404\n24       Pool Table  2012-07    110\n25       Pool Table  2012-08    303\n26       Pool Table  2012-09    443",
      "text/html": "<div>\n<style scoped>\n    .dataframe tbody tr th:only-of-type {\n        vertical-align: middle;\n    }\n\n    .dataframe tbody tr th {\n        vertical-align: top;\n    }\n\n    .dataframe thead th {\n        text-align: right;\n    }\n</style>\n<table border=\"1\" class=\"dataframe\">\n  <thead>\n    <tr style=\"text-align: right;\">\n      <th></th>\n      <th>name</th>\n      <th>Month</th>\n      <th>Usage</th>\n    </tr>\n  </thead>\n  <tbody>\n    <tr>\n      <th>0</th>\n      <td>Tennis Court 1</td>\n      <td>2012-07</td>\n      <td>201</td>\n    </tr>\n    <tr>\n      <th>1</th>\n      <td>Tennis Court 1</td>\n      <td>2012-08</td>\n      <td>339</td>\n    </tr>\n    <tr>\n      <th>2</th>\n      <td>Tennis Court 1</td>\n      <td>2012-09</td>\n      <td>417</td>\n    </tr>\n    <tr>\n      <th>3</th>\n      <td>Tennis Court 2</td>\n      <td>2012-07</td>\n      <td>123</td>\n    </tr>\n    <tr>\n      <th>4</th>\n      <td>Tennis Court 2</td>\n      <td>2012-08</td>\n      <td>345</td>\n    </tr>\n    <tr>\n      <th>5</th>\n      <td>Tennis Court 2</td>\n      <td>2012-09</td>\n      <td>414</td>\n    </tr>\n    <tr>\n      <th>6</th>\n      <td>Badminton Court</td>\n      <td>2012-07</td>\n      <td>165</td>\n    </tr>\n    <tr>\n      <th>7</th>\n      <td>Badminton Court</td>\n      <td>2012-08</td>\n      <td>414</td>\n    </tr>\n    <tr>\n      <th>8</th>\n      <td>Badminton Court</td>\n      <td>2012-09</td>\n      <td>507</td>\n    </tr>\n    <tr>\n      <th>9</th>\n      <td>Table Tennis</td>\n      <td>2012-07</td>\n      <td>98</td>\n    </tr>\n    <tr>\n      <th>10</th>\n      <td>Table Tennis</td>\n      <td>2012-08</td>\n      <td>296</td>\n    </tr>\n    <tr>\n      <th>11</th>\n      <td>Table Tennis</td>\n      <td>2012-09</td>\n      <td>400</td>\n    </tr>\n    <tr>\n      <th>12</th>\n      <td>Massage Room 1</td>\n      <td>2012-07</td>\n      <td>166</td>\n    </tr>\n    <tr>\n      <th>13</th>\n      <td>Massage Room 1</td>\n      <td>2012-08</td>\n      <td>316</td>\n    </tr>\n    <tr>\n      <th>14</th>\n      <td>Massage Room 1</td>\n      <td>2012-09</td>\n      <td>402</td>\n    </tr>\n    <tr>\n      <th>15</th>\n      <td>Massage Room 2</td>\n      <td>2012-07</td>\n      <td>8</td>\n    </tr>\n    <tr>\n      <th>16</th>\n      <td>Massage Room 2</td>\n      <td>2012-08</td>\n      <td>18</td>\n    </tr>\n    <tr>\n      <th>17</th>\n      <td>Massage Room 2</td>\n      <td>2012-09</td>\n      <td>28</td>\n    </tr>\n    <tr>\n      <th>18</th>\n      <td>Squash Court</td>\n      <td>2012-07</td>\n      <td>50</td>\n    </tr>\n    <tr>\n      <th>19</th>\n      <td>Squash Court</td>\n      <td>2012-08</td>\n      <td>184</td>\n    </tr>\n    <tr>\n      <th>20</th>\n      <td>Squash Court</td>\n      <td>2012-09</td>\n      <td>184</td>\n    </tr>\n    <tr>\n      <th>21</th>\n      <td>Snooker Table</td>\n      <td>2012-07</td>\n      <td>140</td>\n    </tr>\n    <tr>\n      <th>22</th>\n      <td>Snooker Table</td>\n      <td>2012-08</td>\n      <td>316</td>\n    </tr>\n    <tr>\n      <th>23</th>\n      <td>Snooker Table</td>\n      <td>2012-09</td>\n      <td>404</td>\n    </tr>\n    <tr>\n      <th>24</th>\n      <td>Pool Table</td>\n      <td>2012-07</td>\n      <td>110</td>\n    </tr>\n    <tr>\n      <th>25</th>\n      <td>Pool Table</td>\n      <td>2012-08</td>\n      <td>303</td>\n    </tr>\n    <tr>\n      <th>26</th>\n      <td>Pool Table</td>\n      <td>2012-09</td>\n      <td>443</td>\n    </tr>\n  </tbody>\n</table>\n</div>"
     },
     "metadata": {},
     "execution_count": 56
    }
   ],
   "source": [
    "pd.read_sql(\"select f.name,strftime('%Y-%m',b.starttime) as Month, sum(b.slots) as 'Usage' from Facilities f inner join Bookings b on f.facid = b.facid and b.memid <> 0 group by b.facid, Month;\",db)\n"
   ]
  },
  {
   "cell_type": "code",
   "execution_count": null,
   "metadata": {},
   "outputs": [],
   "source": []
  }
 ]
}