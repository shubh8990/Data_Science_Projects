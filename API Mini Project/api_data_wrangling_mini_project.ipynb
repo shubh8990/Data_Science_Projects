{
 "cells": [
  {
   "cell_type": "markdown",
   "metadata": {},
   "source": [
    "This exercise will require you to pull some data from the Qunadl API. Qaundl is currently the most widely used aggregator of financial market data."
   ]
  },
  {
   "cell_type": "markdown",
   "metadata": {},
   "source": [
    "As a first step, you will need to register a free account on the http://www.quandl.com website."
   ]
  },
  {
   "cell_type": "markdown",
   "metadata": {},
   "source": [
    "After you register, you will be provided with a unique API key, that you should store:"
   ]
  },
  {
   "cell_type": "code",
   "execution_count": 1,
   "metadata": {
    "collapsed": true
   },
   "outputs": [],
   "source": [
    "# Store the API key as a string - according to PEP8, constants are always named in all upper case\n",
    "API_KEY = '******'"
   ]
  },
  {
   "cell_type": "markdown",
   "metadata": {},
   "source": [
    "Qaundl has a large number of data sources, but, unfortunately, most of them require a Premium subscription. Still, there are also a good number of free datasets."
   ]
  },
  {
   "cell_type": "markdown",
   "metadata": {},
   "source": [
    "For this mini project, we will focus on equities data from the Frankfurt Stock Exhange (FSE), which is available for free. We'll try and analyze the stock prices of a company called Carl Zeiss Meditec, which manufactures tools for eye examinations, as well as medical lasers for laser eye surgery: https://www.zeiss.com/meditec/int/home.html. The company is listed under the stock ticker AFX_X."
   ]
  },
  {
   "cell_type": "markdown",
   "metadata": {},
   "source": [
    "You can find the detailed Quandl API instructions here: https://docs.quandl.com/docs/time-series"
   ]
  },
  {
   "cell_type": "markdown",
   "metadata": {},
   "source": [
    "While there is a dedicated Python package for connecting to the Quandl API, we would prefer that you use the *requests* package, which can be easily downloaded using *pip* or *conda*. You can find the documentation for the package here: http://docs.python-requests.org/en/master/ "
   ]
  },
  {
   "cell_type": "markdown",
   "metadata": {},
   "source": [
    "Finally, apart from the *requests* package, you are encouraged to not use any third party Python packages, such as *pandas*, and instead focus on what's available in the Python Standard Library (the *collections* module might come in handy: https://pymotw.com/3/collections/ ).\n",
    "Also, since you won't have access to DataFrames, you are encouraged to us Python's native data structures - preferably dictionaries, though some questions can also be answered using lists.\n",
    "You can read more on these data structures here: https://docs.python.org/3/tutorial/datastructures.html"
   ]
  },
  {
   "cell_type": "markdown",
   "metadata": {},
   "source": [
    "Keep in mind that the JSON responses you will be getting from the API map almost one-to-one to Python's dictionaries. Unfortunately, they can be very nested, so make sure you read up on indexing dictionaries in the documentation provided above."
   ]
  },
  {
   "cell_type": "code",
   "execution_count": 2,
   "metadata": {
    "collapsed": true
   },
   "outputs": [],
   "source": [
    "# First, import the relevant modules\n",
    "import requests\n",
    "import json"
   ]
  },
  {
   "cell_type": "code",
   "execution_count": 3,
   "metadata": {
    "collapsed": true
   },
   "outputs": [],
   "source": [
    "# Now, call the Quandl API and pull out a small sample of the data (only one day) to get a glimpse\n",
    "# into the JSON structure that will be returned\n",
    "url = 'https://www.quandl.com/api/v3/datasets/FSE/AFX_X/data.json'\n",
    "#define parameters\n",
    "collapse = 'daily'\n",
    "limit = 1       #limit parameter returns just 2 rows of the dataset.\n",
    "params = {'api_key':API_KEY, 'collapse': collapse, 'limit':limit}\n",
    "response = requests.get(url, params=params)\n",
    "res_json = response.json()"
   ]
  },
  {
   "cell_type": "code",
   "execution_count": 4,
   "metadata": {
    "collapsed": true,
    "tags": []
   },
   "outputs": [
    {
     "output_type": "stream",
     "name": "stdout",
     "text": "{'dataset_data': {'limit': 1, 'transform': None, 'column_index': None, 'column_names': ['Date', 'Open', 'High', 'Low', 'Close', 'Change', 'Traded Volume', 'Turnover', 'Last Price of the Day', 'Daily Traded Units', 'Daily Turnover'], 'start_date': '2000-06-07', 'end_date': '2020-07-31', 'frequency': 'daily', 'data': [['2020-07-31', 89.4, 90.95, 88.5, 88.65, None, 145927.0, 13058046.1, None, None, None]], 'collapse': 'daily', 'order': None}}\n"
    }
   ],
   "source": [
    "# Inspect the JSON structure of the object you created, and take note of how nested it is,\n",
    "# as well as the overall structure\n",
    "print(res_json)"
   ]
  },
  {
   "cell_type": "markdown",
   "metadata": {},
   "source": [
    "These are your tasks for this mini project:\n",
    "\n",
    "1. Collect data from the Franfurt Stock Exchange, for the ticker AFX_X, for the whole year 2017 (keep in mind that the date format is YYYY-MM-DD).\n",
    "2. Convert the returned JSON object into a Python dictionary.\n",
    "3. Calculate what the highest and lowest opening prices were for the stock in this period.\n",
    "4. What was the largest change in any one day (based on High and Low price)?\n",
    "5. What was the largest change between any two days (based on Closing Price)?\n",
    "6. What was the average daily trading volume during this year?\n",
    "7. (Optional) What was the median trading volume during this year. (Note: you may need to implement your own function for calculating the median.)"
   ]
  },
  {
   "cell_type": "code",
   "execution_count": 5,
   "metadata": {
    "collapsed": true,
    "tags": []
   },
   "outputs": [
    {
     "output_type": "stream",
     "name": "stdout",
     "text": "200\n"
    }
   ],
   "source": [
    "############### Start of Task-1: Read data from FSE for year 2017 ####################\n",
    "#define required parameters for the API call\n",
    "collapse = 'daily'\n",
    "start_date = '2017-01-01'\n",
    "end_date = '2017-12-31'\n",
    "param = {'api_key': API_KEY, 'collapse': collapse, 'start_date': start_date, 'end_date': end_date}\n",
    "response = requests.get(url,params=param)\n",
    "print(response.status_code)"
   ]
  },
  {
   "cell_type": "code",
   "execution_count": 6,
   "metadata": {
    "tags": []
   },
   "outputs": [
    {
     "output_type": "stream",
     "name": "stdout",
     "text": "<class 'dict'>\n"
    }
   ],
   "source": [
    "############### Start of Task-2: Convert the recieved data to python dictionary ####################\n",
    "res_json = response.json()\n",
    "print(type(res_json))"
   ]
  },
  {
   "cell_type": "code",
   "execution_count": 7,
   "metadata": {},
   "outputs": [
    {
     "output_type": "execute_result",
     "data": {
      "text/plain": "dict_keys(['limit', 'transform', 'column_index', 'column_names', 'start_date', 'end_date', 'frequency', 'data', 'collapse', 'order'])"
     },
     "metadata": {},
     "execution_count": 7
    }
   ],
   "source": [
    "#print all the keys of dataset_data\n",
    "res_json['dataset_data'].keys()"
   ]
  },
  {
   "cell_type": "code",
   "execution_count": 8,
   "metadata": {},
   "outputs": [
    {
     "output_type": "execute_result",
     "data": {
      "text/plain": "['Date',\n 'Open',\n 'High',\n 'Low',\n 'Close',\n 'Change',\n 'Traded Volume',\n 'Turnover',\n 'Last Price of the Day',\n 'Daily Traded Units',\n 'Daily Turnover']"
     },
     "metadata": {},
     "execution_count": 8
    }
   ],
   "source": [
    "#print all the values in column_names key\n",
    "res_json['dataset_data']['column_names']"
   ]
  },
  {
   "cell_type": "code",
   "execution_count": 9,
   "metadata": {
    "tags": []
   },
   "outputs": [
    {
     "output_type": "stream",
     "name": "stdout",
     "text": "Highest Opening Price is: 53.11\nLowest Opening Price is: 34.0\n"
    }
   ],
   "source": [
    "############### Start of Task-3: Highest & Lowest opening prices of the year ####################\n",
    "open_price =[row[1] for row in res_json['dataset_data']['data'] if row[1]]\n",
    "print(\"Highest Opening Price is: \" + str( max(open_price)))\n",
    "print(\"Lowest Opening Price is: \" + str( min(open_price)))"
   ]
  },
  {
   "cell_type": "code",
   "execution_count": 10,
   "metadata": {
    "tags": []
   },
   "outputs": [
    {
     "output_type": "stream",
     "name": "stdout",
     "text": "largest difference is: 2.8100000000000023\n"
    }
   ],
   "source": [
    "############### Start of Task-4: Largest difference in highest & lowest of a day in the year ####################\n",
    "difference = [row[2] - row[3] for row in res_json['dataset_data']['data'] if (row[2] and row[3])]\n",
    "print(\"largest difference is: \" + str(max(difference)))"
   ]
  },
  {
   "cell_type": "code",
   "execution_count": 11,
   "metadata": {
    "tags": []
   },
   "outputs": [
    {
     "output_type": "stream",
     "name": "stdout",
     "text": "largest two day difference is: 2.559999999999995\n"
    }
   ],
   "source": [
    "############### Start of Task-5: Largest difference in closing prices of two consecutive days in the year ####################\n",
    "diff = [abs(row_1[4]-row_2[4]) for row_1, row_2 in zip(res_json['dataset_data']['data'][:-1], res_json['dataset_data']['data'][1:]) if (row_1[4] and row_2[4])]\n",
    "print('largest two day difference is: ' + str(max(diff)))"
   ]
  },
  {
   "cell_type": "code",
   "execution_count": 12,
   "metadata": {
    "tags": []
   },
   "outputs": [
    {
     "output_type": "stream",
     "name": "stdout",
     "text": "Average daily Traded Volume throughout the Year was: 89124.33725490196\n"
    }
   ],
   "source": [
    "############### Start of Task-6: Average daily volume of the year ####################\n",
    "daily_vol = [row[6] for row in res_json['dataset_data']['data'] if row[6]]\n",
    "print('Average daily Traded Volume throughout the Year was: ' + str(sum(daily_vol)/len(daily_vol)))"
   ]
  },
  {
   "cell_type": "code",
   "execution_count": 13,
   "metadata": {
    "tags": []
   },
   "outputs": [
    {
     "output_type": "stream",
     "name": "stdout",
     "text": "Median Traded Volume is: 76443.0\n"
    }
   ],
   "source": [
    "############### Start of Task-7: Median traded volume of the year ####################\n",
    "def median(lst):\n",
    "    lst.sort()\n",
    "    if(len(lst)%2 == 1):\n",
    "        mid = lst[len(lst)//2] + lst[(len(lst)//2) + 1]\n",
    "        return (mid/2)\n",
    "    else:\n",
    "        return lst[len(lst)//2]\n",
    "\n",
    "print(\"Median Traded Volume is: \" + str(median(daily_vol)))"
   ]
  }
 ],
 "metadata": {
  "kernelspec": {
   "display_name": "Python 3.7.3 64-bit ('base': conda)",
   "language": "python",
   "name": "python_defaultSpec_1596289598844"
  },
  "language_info": {
   "codemirror_mode": {
    "name": "ipython",
    "version": 2
   },
   "file_extension": ".py",
   "mimetype": "text/x-python",
   "name": "python",
   "nbconvert_exporter": "python",
   "pygments_lexer": "ipython2",
   "version": "3.7.3-final"
  }
 },
 "nbformat": 4,
 "nbformat_minor": 2
}